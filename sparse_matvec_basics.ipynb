{
 "cells": [
  {
   "cell_type": "code",
   "execution_count": null,
   "metadata": {},
   "outputs": [],
   "source": [
    "import numpy as np\n",
    "import scipy.sparse as sparse"
   ]
  },
  {
   "cell_type": "code",
   "execution_count": null,
   "metadata": {},
   "outputs": [],
   "source": [
    "data = [1.0, 1.0, 1.0, 3.0, 4.4]\n",
    "col = [0, 2, 2, 1, 1]\n",
    "row = [0, 0, 0, 1, 2]\n",
    "A = sparse.coo_matrix((data, (row, col)), shape=(3,3))\n",
    "print(A.todense())\n",
    "print(A.data.dtype, A.data.shape)\n",
    "print(A.col.dtype, A.col.shape)\n",
    "print(A.row.dtype, A.row.shape)\n",
    "print(A.nnz)"
   ]
  },
  {
   "cell_type": "code",
   "execution_count": null,
   "metadata": {},
   "outputs": [],
   "source": [
    "print(A.format)\n",
    "A = A.tocsr()\n",
    "print(A.format)\n",
    "print(A.data)\n",
    "print(A.indices)\n",
    "print(A.indptr)\n",
    "A[0,0] = 0.0\n",
    "print(A.todense())\n",
    "print(A.nnz)\n",
    "A.eliminate_zeros()\n",
    "print(A.nnz)"
   ]
  },
  {
   "cell_type": "code",
   "execution_count": null,
   "metadata": {},
   "outputs": [],
   "source": [
    "import scipy.linalg as sla"
   ]
  },
  {
   "cell_type": "markdown",
   "metadata": {},
   "source": [
    "Let's make a *random* sparse matrix\n",
    "\n",
    "First we'll set the density so that\n",
    "$$\n",
    "density = \\frac{nnz(A)}{n^2}\n",
    "$$"
   ]
  },
  {
   "cell_type": "code",
   "execution_count": null,
   "metadata": {},
   "outputs": [],
   "source": [
    "n = 1000\n",
    "density = 5.0 / n # 5 points per row\n",
    "nnz = int(n*n*density)\n",
    "print(nnz)"
   ]
  },
  {
   "cell_type": "markdown",
   "metadata": {},
   "source": [
    "Now make the entries:"
   ]
  },
  {
   "cell_type": "code",
   "execution_count": null,
   "metadata": {},
   "outputs": [],
   "source": [
    "row = np.random.randint(0, n, size=nnz)\n",
    "col = np.random.randint(0, n, size=nnz)\n",
    "data = np.ones(nnz, dtype=float)\n",
    "\n",
    "A = sparse.coo_matrix((data, (row, col)), shape=(n, n))\n",
    "print(A.dtype)"
   ]
  },
  {
   "cell_type": "code",
   "execution_count": null,
   "metadata": {},
   "outputs": [],
   "source": [
    "import matplotlib.pyplot as plt\n",
    "%matplotlib inline\n",
    "plt.spy(A, marker='.', markersize=2)"
   ]
  },
  {
   "cell_type": "code",
   "execution_count": null,
   "metadata": {},
   "outputs": [],
   "source": [
    "print(A.shape, A.nnz)"
   ]
  },
  {
   "cell_type": "markdown",
   "metadata": {},
   "source": [
    "But let's make it positive definite:"
   ]
  },
  {
   "cell_type": "code",
   "execution_count": null,
   "metadata": {},
   "outputs": [],
   "source": [
    "A.data[:] = -1.0                   # -1 for off-diagonals\n",
    "rowsum = -np.array(A.sum(axis=1))  # positive rowsum\n",
    "rowsum = rowsum.ravel()\n",
    "A.setdiag(rowsum)"
   ]
  },
  {
   "cell_type": "code",
   "execution_count": null,
   "metadata": {},
   "outputs": [],
   "source": [
    "u = np.random.rand(n)\n",
    "v = np.random.rand(n)"
   ]
  },
  {
   "cell_type": "code",
   "execution_count": null,
   "metadata": {},
   "outputs": [],
   "source": [
    "%timeit v = A * u"
   ]
  },
  {
   "cell_type": "code",
   "execution_count": null,
   "metadata": {},
   "outputs": [],
   "source": [
    "B = A.toarray()"
   ]
  },
  {
   "cell_type": "code",
   "execution_count": null,
   "metadata": {},
   "outputs": [],
   "source": [
    "type(B)"
   ]
  },
  {
   "cell_type": "code",
   "execution_count": null,
   "metadata": {},
   "outputs": [],
   "source": [
    "%timeit v = B.dot(u)"
   ]
  },
  {
   "cell_type": "code",
   "execution_count": null,
   "metadata": {},
   "outputs": [],
   "source": []
  }
 ],
 "metadata": {
  "kernelspec": {
   "display_name": "Python 3 (ipykernel)",
   "language": "python",
   "name": "python3"
  },
  "language_info": {
   "codemirror_mode": {
    "name": "ipython",
    "version": 3
   },
   "file_extension": ".py",
   "mimetype": "text/x-python",
   "name": "python",
   "nbconvert_exporter": "python",
   "pygments_lexer": "ipython3",
   "version": "3.9.6"
  }
 },
 "nbformat": 4,
 "nbformat_minor": 4
}
