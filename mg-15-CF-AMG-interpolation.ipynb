{
 "cells": [
  {
   "cell_type": "code",
   "execution_count": null,
   "metadata": {},
   "outputs": [],
   "source": [
    "import scipy as sp\n",
    "import numpy as np\n",
    "import scipy.sparse as sparse\n",
    "import scipy.sparse.linalg as sla\n",
    "import matplotlib.pyplot as plt\n",
    "from common import set_figure\n",
    "\n",
    "import pyamg"
   ]
  },
  {
   "cell_type": "markdown",
   "metadata": {},
   "source": [
    "### Pick out a unstructured problem from the gallery"
   ]
  },
  {
   "cell_type": "code",
   "execution_count": null,
   "metadata": {},
   "outputs": [],
   "source": [
    "data = pyamg.gallery.load_example('unit_square')\n",
    "A = data['A'].tocsr()\n",
    "V = data['vertices'][:A.shape[0]]               # vertices of each variable\n",
    "E = np.vstack((A.tocoo().row,A.tocoo().col)).T  # edges of the matrix graph\n",
    "#A = pyamg.gallery.poisson((5,5)).tocsr()"
   ]
  },
  {
   "cell_type": "code",
   "execution_count": null,
   "metadata": {},
   "outputs": [],
   "source": [
    "A"
   ]
  },
  {
   "cell_type": "code",
   "execution_count": null,
   "metadata": {},
   "outputs": [],
   "source": [
    "ml = pyamg.ruge_stuben_solver(A, keep=True,\n",
    "                              strength=('classical',\n",
    "                                        {'theta': 0.25,\n",
    "                                         'norm': 'min'}))\n",
    "print(ml)"
   ]
  },
  {
   "cell_type": "markdown",
   "metadata": {},
   "source": [
    "### Plot the coarse grid"
   ]
  },
  {
   "cell_type": "code",
   "execution_count": null,
   "metadata": {},
   "outputs": [],
   "source": [
    "plt.figure(figsize=(6,6))\n",
    "plt.axis('equal')\n",
    "splitting = ml.levels[0].splitting\n",
    "C_nodes = splitting == 1\n",
    "F_nodes = splitting == 0\n",
    "for e in E:\n",
    "    plt.plot(V[e,0], V[e,1], 'k-', zorder=1)\n",
    "    \n",
    "plt.scatter(V[:,0][C_nodes], V[:,1][C_nodes], s=100.0, zorder=2, color='tab:red')  #plot C-nodes in blue\n",
    "plt.scatter(V[:,0][F_nodes], V[:,1][F_nodes], s=100.0, zorder=2, color='tab:blue')  #plot F-nodes in orange"
   ]
  },
  {
   "cell_type": "markdown",
   "metadata": {},
   "source": [
    "###  Inspect P\n",
    "\n",
    "Here we will look more closely at P.\n",
    "\n",
    "First, separate $P$ into\n",
    "$$\n",
    "P =\n",
    "\\begin{bmatrix}P_F \\\\ P_C\\end{bmatrix}\n",
    "$$"
   ]
  },
  {
   "cell_type": "code",
   "execution_count": null,
   "metadata": {},
   "outputs": [],
   "source": [
    "P = ml.levels[0].P\n",
    "splitting = ml.levels[0].splitting\n",
    "C = np.where(splitting==1)[0]\n",
    "F = np.where(splitting==0)[0]\n",
    "PF = P[F,:]\n",
    "PC = P[C,:]\n",
    "Preordered = np.zeros(P.shape)\n",
    "Preordered[:PF.shape[0],:] = PF.toarray()\n",
    "Preordered[-PC.shape[0]:,:] = PC.toarray()"
   ]
  },
  {
   "cell_type": "code",
   "execution_count": null,
   "metadata": {},
   "outputs": [],
   "source": [
    "plt.figure(figsize=(10,5))\n",
    "plt.pcolor(np.flipud(Preordered).T, cmap='Blues', snap=True)\n",
    "plt.axis('equal')\n",
    "plt.axis('off')"
   ]
  },
  {
   "cell_type": "markdown",
   "metadata": {},
   "source": [
    "Next create\n",
    "$$\n",
    "P_{ideal} = -A_{FF}^{-1} A_{FC}\n",
    "$$"
   ]
  },
  {
   "cell_type": "code",
   "execution_count": null,
   "metadata": {},
   "outputs": [],
   "source": [
    "AFFinv = sparse.linalg.inv(A[F,:][:,F].tocsc())\n",
    "AFC = A[F,:][:,C]"
   ]
  },
  {
   "cell_type": "code",
   "execution_count": null,
   "metadata": {},
   "outputs": [],
   "source": [
    "P.shape"
   ]
  },
  {
   "cell_type": "code",
   "execution_count": null,
   "metadata": {},
   "outputs": [],
   "source": [
    "plt.spy(P, marker='.')"
   ]
  },
  {
   "cell_type": "code",
   "execution_count": null,
   "metadata": {},
   "outputs": [],
   "source": [
    "plt.spy(PF, marker='.')"
   ]
  },
  {
   "cell_type": "markdown",
   "metadata": {},
   "source": [
    "# Compare P and Pideal\n",
    "\n",
    "Here we'll plot the values (sparsity pattern) of the matrices $P$ and $P_{idea}$"
   ]
  },
  {
   "cell_type": "code",
   "execution_count": null,
   "metadata": {},
   "outputs": [],
   "source": [
    "PFa = PF.toarray()\n",
    "Pideal = (-AFFinv * AFC).toarray()\n",
    "#I, J = np.where(Pideal < 1e-2)\n",
    "#Pideal[I,J] = 0.0\n",
    "\n",
    "fig, ax = plt.subplots(1,2,figsize=(5,10))\n",
    "\n",
    "pc = ax[0].pcolor(np.flipud(PFa), cmap='Blues', snap=True)\n",
    "ax[0].set_xlim(0,PF.shape[1])\n",
    "ax[0].set_ylim(0,PF.shape[0])\n",
    "\n",
    "pc = ax[1].pcolor(np.flipud(Pideal), cmap='Blues', snap=True)\n",
    "ax[1].set_xlim(0,Pideal.shape[1])\n",
    "ax[1].set_ylim(0,Pideal.shape[0])"
   ]
  },
  {
   "cell_type": "markdown",
   "metadata": {},
   "source": [
    "Go back and try this for a structured $A$"
   ]
  },
  {
   "cell_type": "code",
   "execution_count": null,
   "metadata": {},
   "outputs": [],
   "source": [
    "np.linalg.eig(A[F,:][:,F].toarray())[0].min()"
   ]
  },
  {
   "cell_type": "code",
   "execution_count": null,
   "metadata": {},
   "outputs": [],
   "source": []
  },
  {
   "cell_type": "code",
   "execution_count": null,
   "metadata": {},
   "outputs": [],
   "source": []
  },
  {
   "cell_type": "code",
   "execution_count": null,
   "metadata": {},
   "outputs": [],
   "source": []
  }
 ],
 "metadata": {
  "kernelspec": {
   "display_name": "Python 3 (ipykernel)",
   "language": "python",
   "name": "python3"
  },
  "language_info": {
   "codemirror_mode": {
    "name": "ipython",
    "version": 3
   },
   "file_extension": ".py",
   "mimetype": "text/x-python",
   "name": "python",
   "nbconvert_exporter": "python",
   "pygments_lexer": "ipython3",
   "version": "3.9.7"
  }
 },
 "nbformat": 4,
 "nbformat_minor": 4
}
