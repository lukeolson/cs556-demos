{
 "cells": [
  {
   "cell_type": "markdown",
   "metadata": {},
   "source": [
    "# Description\n",
    "\n",
    "In this demo we will look at the cost of a sparse matrix-vector multipy ($A * v$) for different sparse matrix formats."
   ]
  },
  {
   "cell_type": "code",
   "execution_count": null,
   "metadata": {},
   "outputs": [],
   "source": [
    "from pyamg import gallery\n",
    "import numpy as np\n",
    "from time import time\n",
    "import matplotlib.pyplot as plt\n",
    "from common import set_figure\n",
    "set_figure(width=600)"
   ]
  },
  {
   "cell_type": "markdown",
   "metadata": {},
   "source": [
    "# Set up problem sizes\n",
    "\n",
    "Set up the tests to do `ntrials` of $w \\leftarrow A * v$ at different sizes in `nlist` with `nnzperrow` non-zeros per row on average"
   ]
  },
  {
   "cell_type": "code",
   "execution_count": null,
   "metadata": {},
   "outputs": [],
   "source": [
    "types = ['csr', 'csc', 'coo', 'lil']\n",
    "nlist = np.logspace(2,4,20, dtype=int)\n",
    "ntrials = 10\n",
    "nnzperrow = 50\n",
    "print(nlist)"
   ]
  },
  {
   "cell_type": "markdown",
   "metadata": {},
   "source": [
    "## set up containers"
   ]
  },
  {
   "cell_type": "code",
   "execution_count": null,
   "metadata": {},
   "outputs": [],
   "source": [
    "times = {a: np.zeros((len(nlist), ntrials)) for a in types}\n",
    "A = {a: [] for a in types}\n",
    "nnz = []"
   ]
  },
  {
   "cell_type": "markdown",
   "metadata": {},
   "source": [
    "## create matrix and time it"
   ]
  },
  {
   "cell_type": "code",
   "execution_count": null,
   "metadata": {},
   "outputs": [],
   "source": [
    "for j, n in enumerate(nlist):\n",
    "    print(\"n = %d\" % n)\n",
    "    # Generate a random matrix\n",
    "    tmp = time()\n",
    "    A['csr'] = gallery.sprand(n, n, float(nnzperrow) / n, format='csr')\n",
    "    tmp = time() - tmp\n",
    "    print(\"    setup: %g\" % tmp)\n",
    "    \n",
    "    # initialize the input/output vectors\n",
    "    v = np.random.rand(n,)\n",
    "    w = 0 * v.copy()\n",
    "    for tp in types:\n",
    "        if tp == 'csr':\n",
    "            nnz.append(A[tp].nnz)\n",
    "        if tp != 'csr':\n",
    "            A[tp] = getattr(A['csr'], 'to' + tp)()\n",
    "        \n",
    "        # time it for ntrials\n",
    "        for i in range(ntrials):\n",
    "            tmp = time()\n",
    "            w = A[tp] * v\n",
    "            tmp = time() - tmp\n",
    "            times[tp][j, i] = tmp\n",
    "        print(\"    mat-vec %s: %g\" % (tp, tmp))"
   ]
  },
  {
   "cell_type": "markdown",
   "metadata": {},
   "source": [
    "# Plot problem size (nnz) and times in log-log"
   ]
  },
  {
   "cell_type": "code",
   "execution_count": null,
   "metadata": {},
   "outputs": [],
   "source": [
    "nnz = np.array(nnz)\n",
    "for tp in types:\n",
    "    plt.loglog(nlist, times[tp].min(axis=1), label=tp, lw=3)\n",
    "plt.loglog(nlist, nnz / nnz[0] * times['csr'][0, 0], label='nnz')\n",
    "plt.xlabel('size, nnz')\n",
    "plt.ylabel('time (s)')\n",
    "plt.grid(True)\n",
    "plt.legend()\n",
    "plt.show()"
   ]
  }
 ],
 "metadata": {
  "kernelspec": {
   "display_name": "Python 3 (ipykernel)",
   "language": "python",
   "name": "python3"
  },
  "language_info": {
   "codemirror_mode": {
    "name": "ipython",
    "version": 3
   },
   "file_extension": ".py",
   "mimetype": "text/x-python",
   "name": "python",
   "nbconvert_exporter": "python",
   "pygments_lexer": "ipython3",
   "version": "3.9.6"
  }
 },
 "nbformat": 4,
 "nbformat_minor": 4
}
