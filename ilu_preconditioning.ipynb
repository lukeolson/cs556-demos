{
 "cells": [
  {
   "cell_type": "code",
   "execution_count": null,
   "metadata": {},
   "outputs": [],
   "source": [
    "import matplotlib.pyplot as plt\n",
    "import pyamg\n",
    "import scipy.sparse.linalg as sla\n",
    "import numpy as np\n",
    "import time\n",
    "\n",
    "from common import set_figure"
   ]
  },
  {
   "cell_type": "markdown",
   "metadata": {},
   "source": [
    "# Load the sparse matrix"
   ]
  },
  {
   "cell_type": "code",
   "execution_count": null,
   "metadata": {},
   "outputs": [],
   "source": [
    "if 1:\n",
    "    A = pyamg.gallery.poisson((100,100), format='csr')\n",
    "    n = A.shape[0]\n",
    "    b = np.ones((n,))\n",
    "    x = A * b\n",
    "    x0 = np.random.rand(n)\n",
    "if 0:\n",
    "    #A= sio.mmread('mesh_2d_h005.mtx.gz')\n",
    "    A = sio.mmread('horseshoe_matrix_anisotropic.mtx.gz')\n",
    "    n = A.shape[0]\n",
    "    b = np.ones((n,))\n",
    "    x = A * b\n",
    "    x0 = np.random.rand(n)\n",
    "print(A.nnz)"
   ]
  },
  {
   "cell_type": "markdown",
   "metadata": {},
   "source": [
    "# Create ILU and LU\n",
    "\n",
    "Here we will generate the ILU/LU using difference reorderings `permc_spec`"
   ]
  },
  {
   "cell_type": "code",
   "execution_count": null,
   "metadata": {},
   "outputs": [],
   "source": [
    "t = time.time()\n",
    "B = sla.spilu(A, drop_tol=1e-12, fill_factor=1)#, permc_spec='NATURAL')\n",
    "tilu = time.time() - t\n",
    "\n",
    "t = time.time()\n",
    "C = sla.splu(A.tocsc())#, permc_spec='NATURAL')\n",
    "tlu = time.time() - t\n",
    "\n",
    "Mz = lambda r: B.solve(r)\n",
    "Minv = sla.LinearOperator(A.shape, Mz)\n",
    "\n",
    "print(\"nnz in A: %d\"%A.nnz)\n",
    "print(\"nnz in B: %d\"%B.nnz)\n",
    "print(\"nnz in C: %d\"%C.nnz)\n",
    "print(\"time for ILU: %g\"%tilu)\n",
    "print(\"time for  LU: %g\"%tlu)"
   ]
  },
  {
   "cell_type": "markdown",
   "metadata": {},
   "source": [
    "# Check out the sparsity"
   ]
  },
  {
   "cell_type": "code",
   "execution_count": null,
   "metadata": {},
   "outputs": [],
   "source": [
    "f, ax = plt.subplots(1, 3, figsize=(15,10))\n",
    "ax[0].spy(A, marker='.', ms=2)\n",
    "ax[1].spy(B.L + B.U, marker='.', ms=2)\n",
    "ax[2].spy(C.L + C.U, marker='.', ms=2)"
   ]
  },
  {
   "cell_type": "markdown",
   "metadata": {},
   "source": [
    "# How fast is the SpMV?"
   ]
  },
  {
   "cell_type": "code",
   "execution_count": null,
   "metadata": {},
   "outputs": [],
   "source": [
    "t = time.time()\n",
    "Minv.matvec(b)\n",
    "tspmv = time.time() - t\n",
    "print(\"time to solve: %g\"%tspmv)"
   ]
  },
  {
   "cell_type": "markdown",
   "metadata": {},
   "source": [
    "#### What is the equivalant number of SpMVs?"
   ]
  },
  {
   "cell_type": "code",
   "execution_count": null,
   "metadata": {},
   "outputs": [],
   "source": [
    "tilu / tspmv"
   ]
  },
  {
   "cell_type": "markdown",
   "metadata": {},
   "source": [
    "# RUN GMRES vs PGMRES"
   ]
  },
  {
   "cell_type": "code",
   "execution_count": null,
   "metadata": {},
   "outputs": [],
   "source": [
    "res0 = []\n",
    "t = time.time()\n",
    "x = pyamg.krylov.gmres(A, b, x0=x0, tol=1e-8, restrt=20, maxiter=100, M=None, residuals=res0)\n",
    "t = time.time() - t\n",
    "print(\"time for  gmres: %g\"%t)\n",
    "res1 = []\n",
    "t = time.time()\n",
    "x = pyamg.krylov.gmres(A, b, x0=x0, tol=1e-8, restrt=20, maxiter=100, M=Minv, residuals=res1)\n",
    "t = time.time() - t\n",
    "print(\"time for pgmres: %g\"%t)"
   ]
  },
  {
   "cell_type": "code",
   "execution_count": null,
   "metadata": {},
   "outputs": [],
   "source": [
    "plt.semilogy(res0, lw=3, label='gmres')\n",
    "plt.semilogy(res1, lw=3, label='pgmres')\n",
    "plt.legend()"
   ]
  },
  {
   "cell_type": "markdown",
   "metadata": {},
   "source": [
    "# Now vary the parameters\n",
    "\n",
    "Two parameters play a role here:\n",
    "`fill_factor`\n",
    "and\n",
    "`drop_tol`"
   ]
  },
  {
   "cell_type": "code",
   "execution_count": null,
   "metadata": {},
   "outputs": [],
   "source": [
    "t = time.time()\n",
    "B = sla.spilu(A, drop_tol=1e-10, fill_factor=2)\n",
    "tilu = time.time() - t\n",
    "\n",
    "Mz = lambda r: B.solve(r)\n",
    "Minv = sla.LinearOperator(A.shape, Mz)\n",
    "\n",
    "res2 = []\n",
    "t = time.time()\n",
    "x = pyamg.krylov.gmres(A, b, x0=x0, tol=1e-8, restrt=20, maxiter=100, M=Minv, residuals=res2)\n",
    "t = time.time() - t\n",
    "\n",
    "print(\"nnz in A: %d\"%A.nnz)\n",
    "print(\"nnz in A: %d\"%B.nnz)\n",
    "print(\"time for    ILU: %g\"%tilu)\n",
    "print(\"time for pgmres: %g\"%t)\n",
    "\n",
    "plt.semilogy(res0, lw=3, label='gmres')\n",
    "plt.semilogy(res1, lw=3, label='pgmres')\n",
    "plt.semilogy(res2, lw=3, label='pgmres again')\n",
    "plt.legend()"
   ]
  },
  {
   "cell_type": "markdown",
   "metadata": {},
   "source": [
    "# algebraic multigrid"
   ]
  },
  {
   "cell_type": "code",
   "execution_count": null,
   "metadata": {},
   "outputs": [],
   "source": [
    "t = time.time()\n",
    "ml = pyamg.smoothed_aggregation_solver(A, max_coarse=10)\n",
    "resmg = []\n",
    "x = ml.solve(b, x0=x0, residuals=resmg, accel='gmres', tol=1e-8)\n",
    "t = time.time() - t\n",
    "\n",
    "print(t)\n",
    "res2 = np.array(res2) / res2[0]\n",
    "resmg = np.array(resmg) / resmg[0]\n",
    "plt.semilogy(res0, lw=3, label='gmres')\n",
    "plt.semilogy(res1, lw=3, label='pgmres')\n",
    "plt.semilogy(res2, lw=3, label='pgmres again')\n",
    "plt.semilogy(resmg, lw=3, label='AMG')\n",
    "plt.legend()"
   ]
  },
  {
   "cell_type": "code",
   "execution_count": null,
   "metadata": {},
   "outputs": [],
   "source": [
    "len(resmg)"
   ]
  },
  {
   "cell_type": "code",
   "execution_count": null,
   "metadata": {},
   "outputs": [],
   "source": []
  }
 ],
 "metadata": {
  "kernelspec": {
   "display_name": "Python 3 (ipykernel)",
   "language": "python",
   "name": "python3"
  },
  "language_info": {
   "codemirror_mode": {
    "name": "ipython",
    "version": 3
   },
   "file_extension": ".py",
   "mimetype": "text/x-python",
   "name": "python",
   "nbconvert_exporter": "python",
   "pygments_lexer": "ipython3",
   "version": "3.9.6"
  }
 },
 "nbformat": 4,
 "nbformat_minor": 4
}
