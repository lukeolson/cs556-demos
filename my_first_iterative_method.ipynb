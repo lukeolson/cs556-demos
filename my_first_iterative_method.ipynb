{
 "cells": [
  {
   "cell_type": "code",
   "execution_count": null,
   "metadata": {},
   "outputs": [],
   "source": [
    "import numpy as np                 # numpy -- vector containers\n",
    "import scipy as sp                 # scipy -- numerical methods\n",
    "import scipy.sparse as sparse      # sparse -- sparse matrices\n",
    "import scipy.sparse.linalg as sla  # sparse.linalg -- linear algebra\n",
    "import matplotlib.pyplot as plt    # plotting\n",
    "from common import set_figure      # set figure settings (optional)\n",
    "set_figure()"
   ]
  },
  {
   "cell_type": "markdown",
   "metadata": {},
   "source": [
    "### Make a larger matrix"
   ]
  },
  {
   "cell_type": "code",
   "execution_count": null,
   "metadata": {},
   "outputs": [],
   "source": [
    "n = 10\n",
    "A = sparse.diags([-1, 2, -1], [-1, 0, 1], shape=(n,n), format='csr')\n",
    "b = np.zeros((n,))\n",
    "print(A.toarray())"
   ]
  },
  {
   "cell_type": "markdown",
   "metadata": {},
   "source": [
    "### Make a larger matrix"
   ]
  },
  {
   "cell_type": "code",
   "execution_count": null,
   "metadata": {},
   "outputs": [],
   "source": [
    "n = 100\n",
    "A = sparse.diags([-1, 2, -1], [-1, 0, 1], shape=(n,n), format='csr')\n",
    "b = np.zeros((n,))\n",
    "print(A.toarray())"
   ]
  },
  {
   "cell_type": "markdown",
   "metadata": {},
   "source": [
    "### An iterative methods\n",
    "$$\n",
    "x \\leftarrow x + \\alpha (b - A x)\n",
    "$$"
   ]
  },
  {
   "cell_type": "code",
   "execution_count": null,
   "metadata": {},
   "outputs": [],
   "source": [
    "err = []\n",
    "res = []\n",
    "alpha = 0.001\n",
    "#alpha = 0.5\n",
    "print(alpha)\n",
    "x = np.random.rand(n)\n",
    "\n",
    "for i in range(1000):\n",
    "    x = x + alpha * (b - A*x)\n",
    "    err.append(np.linalg.norm(x))\n",
    "    res.append(np.linalg.norm(b-A*x))"
   ]
  },
  {
   "cell_type": "code",
   "execution_count": null,
   "metadata": {},
   "outputs": [],
   "source": [
    "plt.semilogy(res)"
   ]
  },
  {
   "cell_type": "code",
   "execution_count": null,
   "metadata": {},
   "outputs": [],
   "source": [
    "err = np.array(err)\n",
    "err[1:] / err[:-1]"
   ]
  },
  {
   "cell_type": "code",
   "execution_count": null,
   "metadata": {},
   "outputs": [],
   "source": [
    "res = np.array(res)\n",
    "res[1:] / res[:-1]"
   ]
  },
  {
   "cell_type": "code",
   "execution_count": null,
   "metadata": {},
   "outputs": [],
   "source": []
  },
  {
   "cell_type": "code",
   "execution_count": null,
   "metadata": {},
   "outputs": [],
   "source": []
  }
 ],
 "metadata": {
  "kernelspec": {
   "display_name": "Python 3 (ipykernel)",
   "language": "python",
   "name": "python3"
  },
  "language_info": {
   "codemirror_mode": {
    "name": "ipython",
    "version": 3
   },
   "file_extension": ".py",
   "mimetype": "text/x-python",
   "name": "python",
   "nbconvert_exporter": "python",
   "pygments_lexer": "ipython3",
   "version": "3.9.6"
  }
 },
 "nbformat": 4,
 "nbformat_minor": 4
}
