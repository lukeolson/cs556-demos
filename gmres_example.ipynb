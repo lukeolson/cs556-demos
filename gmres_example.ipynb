{
 "cells": [
  {
   "cell_type": "code",
   "execution_count": null,
   "metadata": {},
   "outputs": [],
   "source": [
    "from gmres_mgs import gmres_mgs as gmres\n",
    "import numpy as np\n",
    "import scipy as sp\n",
    "import scipy.linalg as la\n",
    "import matplotlib.pyplot as plt\n",
    "from common import set_figure"
   ]
  },
  {
   "cell_type": "markdown",
   "metadata": {},
   "source": [
    "# Problem 1"
   ]
  },
  {
   "cell_type": "code",
   "execution_count": null,
   "metadata": {},
   "outputs": [],
   "source": [
    "m = 200\n",
    "A = (0.5/np.sqrt(m))*np.random.randn(m,m) + 2.0*np.eye(m)\n",
    "(W,V)=la.eig(A)\n",
    "print('minimum eigenvalue: {}'.format(np.abs(W).min()))\n",
    "print('maximum eigenvalue: {}'.format(np.abs(W).max()))"
   ]
  },
  {
   "cell_type": "code",
   "execution_count": null,
   "metadata": {},
   "outputs": [],
   "source": [
    "plt.plot(W.real, W.imag, 'o', ms=2)\n",
    "\n",
    "plt.axis('scaled')\n",
    "plt.axis([0,3, -1, 1])\n",
    "plt.gca().spines['bottom'].set_position('zero')\n",
    "plt.grid(True)\n",
    "\n",
    "if True:\n",
    "    def p(z, n):\n",
    "        return (1 - z/2)**n\n",
    "    \n",
    "    z = np.linspace(0, np.abs(W).max(), 100)\n",
    "    plt.plot(z, p(z, 2), 'r-', lw=3)"
   ]
  },
  {
   "cell_type": "code",
   "execution_count": null,
   "metadata": {},
   "outputs": [],
   "source": [
    "b = np.ones((A.shape[0],))\n",
    "x0 = np.random.rand(len(b))\n",
    "\n",
    "res = []\n",
    "x = gmres(A, b, x0=x0, tol=1e-12, restrt=None, maxiter=None, residuals=res)"
   ]
  },
  {
   "cell_type": "code",
   "execution_count": null,
   "metadata": {},
   "outputs": [],
   "source": [
    "plt.semilogy(res, label='residuals')\n",
    "ns = np.arange(0, len(res))\n",
    "model = 4.0**(-ns)\n",
    "model /= model[0]\n",
    "model *= res[0]\n",
    "plt.semilogy(ns, model, label='model')\n",
    "plt.legend()"
   ]
  },
  {
   "cell_type": "markdown",
   "metadata": {},
   "source": [
    "# Problem 2"
   ]
  },
  {
   "cell_type": "code",
   "execution_count": null,
   "metadata": {},
   "outputs": [],
   "source": [
    "A = A - 0.9*np.abs(W).min()*np.eye(m);\n",
    "A = A.T.dot(A)\n",
    "print(np.linalg.cond(A))\n",
    "print(np.linalg.norm(A))\n",
    "print(np.linalg.norm(np.linalg.inv(A)))\n",
    "\n",
    "(W,V)=la.eig(A)\n",
    "print('minimum eigenvalue: {}'.format(np.abs(W).min()))\n",
    "print('maximum eigenvalue: {}'.format(np.abs(W).max()))\n",
    "\n",
    "x = A.dot(np.ones((m,)))\n",
    "b = A.dot(x)\n",
    "x0 = np.random.rand(m)"
   ]
  },
  {
   "cell_type": "code",
   "execution_count": null,
   "metadata": {},
   "outputs": [],
   "source": [
    "plt.figure(figsize=(20,2))\n",
    "plt.plot(W.real, W.imag, '*r', ms=5)\n",
    "plt.axis('scaled')\n",
    "plt.axis([0,3, -1.0, 01.0])\n",
    "#sns.despine(ax=plt.gca())"
   ]
  },
  {
   "cell_type": "code",
   "execution_count": null,
   "metadata": {},
   "outputs": [],
   "source": [
    "b = np.ones((A.shape[0],))\n",
    "x0 = np.random.rand(len(b))\n",
    "\n",
    "res = []\n",
    "x = gmres(A, b, x0=x0, tol=1e-12, restrt=None, maxiter=200, residuals=res)"
   ]
  },
  {
   "cell_type": "code",
   "execution_count": null,
   "metadata": {},
   "outputs": [],
   "source": [
    "plt.semilogy(res, label='residuals')\n",
    "ns = np.arange(0, len(res))\n",
    "model = 4.0**(-ns)\n",
    "model /= model[0]\n",
    "model *= res[0]\n",
    "#plt.semilogy(ns, model, label='model')\n",
    "plt.legend()"
   ]
  },
  {
   "cell_type": "code",
   "execution_count": null,
   "metadata": {},
   "outputs": [],
   "source": [
    "A.shape"
   ]
  },
  {
   "cell_type": "markdown",
   "metadata": {},
   "source": [
    "# Problem 3"
   ]
  },
  {
   "cell_type": "code",
   "execution_count": null,
   "metadata": {},
   "outputs": [],
   "source": [
    "m = 200\n",
    "A = (0.5/np.sqrt(m))*np.random.randn(m,m) + 2.0*np.eye(m) + 1j * 0 * np.eye(m)\n",
    "theta = np.arange(0,m) * np.pi / (m - 1)\n",
    "A += np.diag(-2 + 2*np.sin(theta) + 1j*np.cos(theta))\n",
    "(W,V)=la.eig(A)\n",
    "print('minimum eigenvalue: {}'.format(np.abs(W).min()))\n",
    "print('maximum eigenvalue: {}'.format(np.abs(W).max()))"
   ]
  },
  {
   "cell_type": "code",
   "execution_count": null,
   "metadata": {},
   "outputs": [],
   "source": [
    "np.linalg.cond(V)"
   ]
  },
  {
   "cell_type": "code",
   "execution_count": null,
   "metadata": {},
   "outputs": [],
   "source": [
    "plt.plot(W.real, W.imag, 'o', ms=2)\n",
    "\n",
    "plt.axis('scaled')\n",
    "plt.axis([-1,3, -2, 2])\n",
    "plt.gca().spines['bottom'].set_position('zero')\n",
    "plt.grid(True)\n",
    "\n",
    "print(\"condition of A:\", np.linalg.cond(A))"
   ]
  },
  {
   "cell_type": "code",
   "execution_count": null,
   "metadata": {},
   "outputs": [],
   "source": [
    "b = np.ones((A.shape[0],))\n",
    "x0 = np.random.rand(len(b))\n",
    "\n",
    "res = []\n",
    "x = gmres(A, b, x0=x0, tol=1e-12, restrt=None, maxiter=None, residuals=res)"
   ]
  },
  {
   "cell_type": "code",
   "execution_count": null,
   "metadata": {},
   "outputs": [],
   "source": [
    "plt.semilogy(res, label='residuals')\n",
    "ns = np.arange(0, len(res))\n",
    "model = 4.0**(-ns)\n",
    "model /= model[0]\n",
    "model *= res[0]\n",
    "plt.semilogy(ns, model, label='model')\n",
    "plt.legend()"
   ]
  },
  {
   "cell_type": "code",
   "execution_count": null,
   "metadata": {},
   "outputs": [],
   "source": []
  }
 ],
 "metadata": {
  "kernelspec": {
   "display_name": "Python 3 (ipykernel)",
   "language": "python",
   "name": "python3"
  },
  "language_info": {
   "codemirror_mode": {
    "name": "ipython",
    "version": 3
   },
   "file_extension": ".py",
   "mimetype": "text/x-python",
   "name": "python",
   "nbconvert_exporter": "python",
   "pygments_lexer": "ipython3",
   "version": "3.9.6"
  }
 },
 "nbformat": 4,
 "nbformat_minor": 4
}
