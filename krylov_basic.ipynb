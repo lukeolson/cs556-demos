{
 "cells": [
  {
   "cell_type": "code",
   "execution_count": null,
   "metadata": {},
   "outputs": [],
   "source": [
    "import numpy as np\n",
    "from scipy import sparse\n",
    "import matplotlib.pyplot as plt\n",
    "from common import set_figure"
   ]
  },
  {
   "cell_type": "code",
   "execution_count": null,
   "metadata": {},
   "outputs": [],
   "source": [
    "n = 100\n",
    "A = sparse.diags([-1, 2, -1], [-1, 0, 1], shape=(n,n), format='csr')\n",
    "b = np.zeros((n,))\n",
    "\n",
    "x0 = np.random.rand(n)\n",
    "r0 = b - A @ x0\n",
    "print('Starting residual = ', np.linalg.norm(b - A @ x0))"
   ]
  },
  {
   "cell_type": "code",
   "execution_count": null,
   "metadata": {},
   "outputs": [],
   "source": [
    "m = 5\n",
    "V = np.zeros((n,m))\n",
    "V[:, 0] = r0\n",
    "for i in range(1, m):\n",
    "    V[:, i] = A @ V[:, i-1]\n",
    "    \n",
    "y = np.linalg.inv(V.T @ A @ V) @ V.T @ r0 # y = (V.T A V)^{-1} V.T r\n",
    "delta = V @ y\n",
    "xm = x0 + delta\n",
    "print('Ending residual = ', np.linalg.norm(b - A @ xm))"
   ]
  },
  {
   "cell_type": "code",
   "execution_count": null,
   "metadata": {},
   "outputs": [],
   "source": [
    "np.linalg.cond(V)"
   ]
  },
  {
   "cell_type": "code",
   "execution_count": null,
   "metadata": {},
   "outputs": [],
   "source": [
    "res = []\n",
    "for mm in range(2,50):\n",
    "    m = mm\n",
    "    V = np.zeros((n,m))\n",
    "    V[:, 0] = r0\n",
    "    for i in range(1, m):\n",
    "        V[:, i] = A @ V[:, i-1]\n",
    "    \n",
    "    y = np.linalg.inv(V.T @ A @ V) @ V.T @ r0 # y = (V.T A V)^{-1} V.T r\n",
    "    delta = V @ y\n",
    "    xm = x0 + delta\n",
    "    print('Ending residual = ', np.linalg.norm(b - A @ xm))\n",
    "    res.append(np.linalg.norm(b - A @ xm))"
   ]
  },
  {
   "cell_type": "code",
   "execution_count": null,
   "metadata": {},
   "outputs": [],
   "source": [
    "plt.semilogy(res)"
   ]
  },
  {
   "cell_type": "code",
   "execution_count": null,
   "metadata": {},
   "outputs": [],
   "source": []
  }
 ],
 "metadata": {
  "kernelspec": {
   "display_name": "Python 3 (ipykernel)",
   "language": "python",
   "name": "python3"
  },
  "language_info": {
   "codemirror_mode": {
    "name": "ipython",
    "version": 3
   },
   "file_extension": ".py",
   "mimetype": "text/x-python",
   "name": "python",
   "nbconvert_exporter": "python",
   "pygments_lexer": "ipython3",
   "version": "3.9.6"
  }
 },
 "nbformat": 4,
 "nbformat_minor": 4
}
