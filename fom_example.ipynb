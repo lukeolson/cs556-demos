{
 "cells": [
  {
   "cell_type": "code",
   "execution_count": null,
   "metadata": {},
   "outputs": [],
   "source": [
    "from fom import fom\n",
    "from onedprojection import onedprojection\n",
    "import matplotlib.pyplot as plt\n",
    "from scipy import sparse\n",
    "import numpy as np\n",
    "from common import set_figure"
   ]
  },
  {
   "cell_type": "markdown",
   "metadata": {},
   "source": [
    "# poisson problem"
   ]
  },
  {
   "cell_type": "code",
   "execution_count": null,
   "metadata": {},
   "outputs": [],
   "source": [
    "n = 100\n",
    "A = sparse.diags([-1, 2, -1], [-1, 0, 1], shape=(n,n), format='csr')\n",
    "b = np.zeros((n,))"
   ]
  },
  {
   "cell_type": "markdown",
   "metadata": {},
   "source": [
    "test SD vs FOM"
   ]
  },
  {
   "cell_type": "code",
   "execution_count": null,
   "metadata": {},
   "outputs": [],
   "source": [
    "its = 100\n",
    "\n",
    "x0 = np.random.rand(n)\n",
    "res = []\n",
    "err = []\n",
    "res2 = []\n",
    "err2 = []\n",
    "\n",
    "x = onedprojection(A, b, x0=x0, tol=1e-8, maxiter=its, residuals=res, method='SD', errs=err)\n",
    "\n",
    "x2 = fom(A, b, x0=x0, maxiter=its, residuals=res2, errs=err2)"
   ]
  },
  {
   "cell_type": "code",
   "execution_count": null,
   "metadata": {},
   "outputs": [],
   "source": [
    "plt.semilogy(res, label='SD $\\|r\\|_2$')\n",
    "plt.semilogy(err, label='SD $\\|e\\|_A$')\n",
    "plt.semilogy(res2, label='FOM $\\|r\\|_2$')\n",
    "plt.semilogy(err2, label='FOM $\\|e\\|_A$')\n",
    "plt.xlabel(\"iteration\")\n",
    "plt.ylabel(\"$\\|\\cdot\\|$\")\n",
    "plt.legend()"
   ]
  },
  {
   "cell_type": "markdown",
   "metadata": {},
   "source": [
    "# a different model problem"
   ]
  },
  {
   "cell_type": "code",
   "execution_count": null,
   "metadata": {},
   "outputs": [],
   "source": [
    "n = 8\n",
    "d = np.linspace(0.1,1.0,n)\n",
    "d[0] = 0.0001\n",
    "d[1] = 0.009\n",
    "d[2] = 0.008\n",
    "d[3] = 0.0007\n",
    "A = sparse.spdiags(d,[0],n,n).tocsr()\n",
    "\n",
    "np.set_printoptions(precision=4, suppress=True)\n",
    "print(A.toarray())"
   ]
  },
  {
   "cell_type": "code",
   "execution_count": null,
   "metadata": {},
   "outputs": [],
   "source": [
    "its = 60\n",
    "\n",
    "n = 200\n",
    "d = np.linspace(0.1,1.0,n)\n",
    "d[0] = 0.0001\n",
    "d[1] = 0.009\n",
    "A = sparse.spdiags(d,[0],n,n).tocsr()\n",
    "\n",
    "b = np.zeros((n,))\n",
    "x0 = np.random.rand(n)\n",
    "res = []\n",
    "err = []\n",
    "res2 = []\n",
    "err2 = []\n",
    "\n",
    "x = onedprojection(A,b,x0=x0,tol=1e-8,maxiter=its,residuals=res,method='SD',errs=err)\n",
    "x2 = fom(A,b,x0=x0,maxiter=its,residuals=res2,errs=err2)"
   ]
  },
  {
   "cell_type": "code",
   "execution_count": null,
   "metadata": {},
   "outputs": [],
   "source": [
    "plt.figure(figsize=(8,8))\n",
    "plt.semilogy(res, label='SD $\\|r\\|_2$')\n",
    "plt.semilogy(err, label='SD $\\|e\\|_A$')\n",
    "plt.semilogy(res2, label='FOM $\\|r\\|_2$')\n",
    "plt.semilogy(err2, label='FOM $\\|e\\|_A$')\n",
    "plt.xlabel(\"iteration\")\n",
    "plt.ylabel(\"$\\|\\cdot\\|$\")\n",
    "plt.legend()\n",
    "#plt.savefig('09-13-img.png')"
   ]
  },
  {
   "cell_type": "markdown",
   "metadata": {},
   "source": [
    "## ratio of residuals"
   ]
  },
  {
   "cell_type": "code",
   "execution_count": null,
   "metadata": {},
   "outputs": [],
   "source": [
    "res2 = np.array(res2)\n",
    "plt.plot(res2[1:] / res2[:-1])"
   ]
  },
  {
   "cell_type": "code",
   "execution_count": null,
   "metadata": {},
   "outputs": [],
   "source": []
  }
 ],
 "metadata": {
  "kernelspec": {
   "display_name": "Python 3 (ipykernel)",
   "language": "python",
   "name": "python3"
  },
  "language_info": {
   "codemirror_mode": {
    "name": "ipython",
    "version": 3
   },
   "file_extension": ".py",
   "mimetype": "text/x-python",
   "name": "python",
   "nbconvert_exporter": "python",
   "pygments_lexer": "ipython3",
   "version": "3.9.6"
  }
 },
 "nbformat": 4,
 "nbformat_minor": 4
}
