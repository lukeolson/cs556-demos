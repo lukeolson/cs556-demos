{
 "cells": [
  {
   "cell_type": "code",
   "execution_count": null,
   "metadata": {},
   "outputs": [],
   "source": [
    "import scipy as sp\n",
    "import numpy as np\n",
    "import scipy.sparse as sparse\n",
    "import scipy.sparse.linalg as sla\n",
    "import matplotlib.pyplot as plt\n",
    "from common import set_figure\n",
    "\n",
    "import pyamg\n",
    "import matplotlib as mplt"
   ]
  },
  {
   "cell_type": "markdown",
   "metadata": {},
   "source": [
    "### Start with a structured matrix"
   ]
  },
  {
   "cell_type": "code",
   "execution_count": null,
   "metadata": {},
   "outputs": [],
   "source": [
    "sten = np.array([[-1.,-1,-1],[-1,8,-1],[-1,-1,-1]])\n",
    "nx = 10\n",
    "ny = nx\n",
    "A = pyamg.gallery.stencil_grid(sten, (nx, ny), format='csr')"
   ]
  },
  {
   "cell_type": "markdown",
   "metadata": {},
   "source": [
    "#### Form strength (`C`) and aggregation\n",
    "\n",
    "Here we have \n",
    "- `C` represents the strong connections in the graph of `A`\n",
    "- `AggOp` encodes the aggregate / dof mapping\n",
    "- `Cpts` label the \"root\" points of the aggregate"
   ]
  },
  {
   "cell_type": "code",
   "execution_count": null,
   "metadata": {},
   "outputs": [],
   "source": [
    "C = pyamg.strength.symmetric_strength_of_connection(A)\n",
    "AggOp, Cpts = pyamg.aggregation.aggregate.standard_aggregation(C)"
   ]
  },
  {
   "cell_type": "code",
   "execution_count": null,
   "metadata": {},
   "outputs": [],
   "source": [
    "AggOp"
   ]
  },
  {
   "cell_type": "markdown",
   "metadata": {},
   "source": [
    "### Plot it"
   ]
  },
  {
   "cell_type": "code",
   "execution_count": null,
   "metadata": {},
   "outputs": [],
   "source": [
    "X, Y = np.meshgrid(np.linspace(0,1,nx), np.linspace(0,1,ny))\n",
    "V = np.vstack((X.ravel(), Y.ravel())).T\n",
    "E = np.vstack((A.tocoo().row,A.tocoo().col)).T  # edges of the matrix graph"
   ]
  },
  {
   "cell_type": "code",
   "execution_count": null,
   "metadata": {},
   "outputs": [],
   "source": [
    "inner_edges = AggOp.indices[E[:,0]] == AggOp.indices[E[:,1]]\n",
    "outer_edges = ~inner_edges"
   ]
  },
  {
   "cell_type": "code",
   "execution_count": null,
   "metadata": {},
   "outputs": [],
   "source": [
    "fig, ax = plt.subplots(figsize=(6, 6))\n",
    "\n",
    "# non aggregate edges\n",
    "nonaggs = V[E[outer_edges].ravel(),:].reshape((-1, 2, 2))\n",
    "col = mplt.collections.LineCollection(nonaggs,\n",
    "                                      color=[232.0/255, 74.0/255, 39.0/255],\n",
    "                                      linewidth=1.0)\n",
    "ax.add_collection(col, autolim=True)\n",
    "\n",
    "# aggregate edges\n",
    "aggs = V[E[inner_edges].ravel(),:].reshape((-1, 2, 2))\n",
    "col = mplt.collections.LineCollection(aggs,\n",
    "                                      color=[19.0/255, 41.0/255, 75.0/255],\n",
    "                                      linewidth=4.0)\n",
    "ax.add_collection(col, autolim=True)\n",
    "\n",
    "ax.autoscale_view()\n",
    "ax.axis('equal')\n",
    "\n",
    "for i,c in enumerate(Cpts):\n",
    "    plt.text(V[c,0], V[c,1], f'{i}',\n",
    "             backgroundcolor='w')    "
   ]
  },
  {
   "cell_type": "markdown",
   "metadata": {},
   "source": [
    "### Try an unstructured graph"
   ]
  },
  {
   "cell_type": "code",
   "execution_count": null,
   "metadata": {},
   "outputs": [],
   "source": [
    "data = pyamg.gallery.load_example('unit_square')\n",
    "A = data['A'].tocsr()                              # matrix\n",
    "V = data['vertices'][:A.shape[0]]                  # vertices of each variable\n",
    "E = np.vstack((A.tocoo().row,A.tocoo().col)).T  # edges of the matrix graph"
   ]
  },
  {
   "cell_type": "code",
   "execution_count": null,
   "metadata": {},
   "outputs": [],
   "source": [
    "C = pyamg.strength.symmetric_strength_of_connection(A)\n",
    "AggOp, Cpts = pyamg.aggregation.aggregate.standard_aggregation(C)"
   ]
  },
  {
   "cell_type": "code",
   "execution_count": null,
   "metadata": {},
   "outputs": [],
   "source": [
    "inner_edges = AggOp.indices[E[:,0]] == AggOp.indices[E[:,1]]\n",
    "outer_edges = ~inner_edges"
   ]
  },
  {
   "cell_type": "code",
   "execution_count": null,
   "metadata": {},
   "outputs": [],
   "source": [
    "fig, ax = plt.subplots(figsize=(6, 6))\n",
    "\n",
    "# non aggregate edges\n",
    "nonaggs = V[E[outer_edges].ravel(),:].reshape((-1, 2, 2))\n",
    "col = mplt.collections.LineCollection(nonaggs,\n",
    "                                      color=[232.0/255, 74.0/255, 39.0/255],\n",
    "                                      linewidth=1.0)\n",
    "ax.add_collection(col, autolim=True)\n",
    "\n",
    "# aggregate edges\n",
    "aggs = V[E[inner_edges].ravel(),:].reshape((-1, 2, 2))\n",
    "col = mplt.collections.LineCollection(aggs,\n",
    "                                      color=[19.0/255, 41.0/255, 75.0/255],\n",
    "                                      linewidth=4.0)\n",
    "ax.add_collection(col, autolim=True)\n",
    "\n",
    "ax.autoscale_view()\n",
    "ax.axis('equal')\n",
    "\n",
    "for i,c in enumerate(Cpts):\n",
    "    plt.text(V[c,0], V[c,1], f'{i}',\n",
    "             backgroundcolor='w')   \n",
    "    \n",
    "fig, ax = plt.subplots(figsize=(6, 6))\n",
    "alledges = V[E[:].ravel(),:].reshape((-1, 2, 2))\n",
    "col = mplt.collections.LineCollection(alledges,\n",
    "                                      color='0.8',\n",
    "                                      linewidth=1.0)\n",
    "ax.add_collection(col, autolim=True)\n",
    "ax.autoscale_view()\n",
    "ax.axis('equal')\n",
    "for i in range(V.shape[0]):\n",
    "    plt.text(V[i,0], V[i,1], f'{i}',\n",
    "             backgroundcolor='w')"
   ]
  },
  {
   "cell_type": "markdown",
   "metadata": {},
   "source": [
    "### CF Splittings vs Aggregation"
   ]
  },
  {
   "cell_type": "code",
   "execution_count": null,
   "metadata": {},
   "outputs": [],
   "source": [
    "data = pyamg.gallery.load_example('unit_square')\n",
    "A = data['A'].tocsr()                              # matrix\n",
    "V = data['vertices'][:A.shape[0]]                  # vertices of each variable\n",
    "E = np.vstack((A.tocoo().row,A.tocoo().col)).T  # edges of the matrix graph"
   ]
  },
  {
   "cell_type": "code",
   "execution_count": null,
   "metadata": {},
   "outputs": [],
   "source": [
    "fig, ax = plt.subplots(figsize=(6, 6))\n",
    "alledges = V[E[:].ravel(),:].reshape((-1, 2, 2))\n",
    "col = mplt.collections.LineCollection(alledges,\n",
    "                                      color='0.8',\n",
    "                                      linewidth=1.0, zorder=-10)\n",
    "ax.add_collection(col, autolim=True)\n",
    "ax.autoscale_view()\n",
    "ax.axis('equal')\n",
    "\n",
    "# The CF splitting, 1 == C-node and 0 == F-node\n",
    "ml = pyamg.ruge_stuben_solver(A, keep=True)\n",
    "splitting = ml.levels[0].splitting\n",
    "C_nodes = splitting == 1\n",
    "F_nodes = splitting == 0\n",
    "\n",
    "plt.scatter(V[C_nodes,0], V[C_nodes,1],\n",
    "            marker='s',\n",
    "            s=30.0, label='C pts')\n",
    "plt.scatter(V[F_nodes,0], V[F_nodes,1],\n",
    "            marker='s',\n",
    "            s=30.0, label='F pts')\n",
    "plt.axis('off')\n",
    "print(ml)"
   ]
  },
  {
   "cell_type": "code",
   "execution_count": null,
   "metadata": {},
   "outputs": [],
   "source": [
    "ml = pyamg.smoothed_aggregation_solver(A, keep=True)\n",
    "AggOp = ml.levels[0].AggOp\n",
    "\n",
    "inner_edges = AggOp.indices[E[:,0]] == AggOp.indices[E[:,1]]\n",
    "outer_edges = ~inner_edges\n",
    "\n",
    "fig, ax = plt.subplots(figsize=(6, 6))\n",
    "\n",
    "# non aggregate edges\n",
    "nonaggs = V[E[outer_edges].ravel(),:].reshape((-1, 2, 2))\n",
    "col = mplt.collections.LineCollection(nonaggs,\n",
    "                                      color=[232.0/255, 74.0/255, 39.0/255],\n",
    "                                      linewidth=1.0)\n",
    "ax.add_collection(col, autolim=True)\n",
    "\n",
    "# aggregate edges\n",
    "aggs = V[E[inner_edges].ravel(),:].reshape((-1, 2, 2))\n",
    "col = mplt.collections.LineCollection(aggs,\n",
    "                                      color=[19.0/255, 41.0/255, 75.0/255],\n",
    "                                      linewidth=4.0)\n",
    "ax.add_collection(col, autolim=True)\n",
    "\n",
    "ax.autoscale_view()\n",
    "ax.axis('equal')\n",
    "ax.axis('off')\n",
    "print(ml)"
   ]
  },
  {
   "cell_type": "code",
   "execution_count": null,
   "metadata": {},
   "outputs": [],
   "source": []
  },
  {
   "cell_type": "code",
   "execution_count": null,
   "metadata": {},
   "outputs": [],
   "source": []
  },
  {
   "cell_type": "code",
   "execution_count": null,
   "metadata": {},
   "outputs": [],
   "source": []
  }
 ],
 "metadata": {
  "kernelspec": {
   "display_name": "Python 3 (ipykernel)",
   "language": "python",
   "name": "python3"
  },
  "language_info": {
   "codemirror_mode": {
    "name": "ipython",
    "version": 3
   },
   "file_extension": ".py",
   "mimetype": "text/x-python",
   "name": "python",
   "nbconvert_exporter": "python",
   "pygments_lexer": "ipython3",
   "version": "3.9.7"
  }
 },
 "nbformat": 4,
 "nbformat_minor": 4
}
