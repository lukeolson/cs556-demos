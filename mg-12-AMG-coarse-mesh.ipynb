{
 "cells": [
  {
   "cell_type": "code",
   "execution_count": null,
   "metadata": {},
   "outputs": [],
   "source": [
    "import pyamg\n",
    "import numpy\n",
    "import numpy as np\n",
    "from scipy.io import loadmat\n",
    "import scipy.sparse as sparse\n",
    "import matplotlib.pyplot as plt\n",
    "from common import set_figure"
   ]
  },
  {
   "cell_type": "markdown",
   "metadata": {},
   "source": [
    "Load some data"
   ]
  },
  {
   "cell_type": "code",
   "execution_count": null,
   "metadata": {},
   "outputs": [],
   "source": [
    "data = pyamg.gallery.load_example('airfoil')\n",
    "#data = pyamg.gallery.load_example('unit_square')"
   ]
  },
  {
   "cell_type": "markdown",
   "metadata": {},
   "source": [
    "Create vertices and edges (for plotting)"
   ]
  },
  {
   "cell_type": "code",
   "execution_count": null,
   "metadata": {},
   "outputs": [],
   "source": [
    "A = data['A'].tocsr()                              # matrix\n",
    "V = data['vertices'][:A.shape[0]]                  # vertices of each variable\n",
    "E = numpy.vstack((A.tocoo().row,A.tocoo().col)).T  # edges of the matrix graph"
   ]
  },
  {
   "cell_type": "markdown",
   "metadata": {},
   "source": [
    "create an AMG hierarchy"
   ]
  },
  {
   "cell_type": "code",
   "execution_count": null,
   "metadata": {},
   "outputs": [],
   "source": [
    "mls = pyamg.ruge_stuben_solver(A, max_levels=3, max_coarse=1,\n",
    "                               CF='RS',keep=True)\n",
    "print(mls)"
   ]
  },
  {
   "cell_type": "code",
   "execution_count": null,
   "metadata": {},
   "outputs": [],
   "source": [
    "# The CF splitting, 1 == C-node and 0 == F-node\n",
    "splitting = mls.levels[0].splitting\n",
    "C_nodes = splitting == 1\n",
    "F_nodes = splitting == 0\n",
    "\n",
    "fig, ax = plt.subplots(figsize=(6,6))\n",
    "ax.axis('equal')\n",
    "\n",
    "for e in E:\n",
    "    plt.plot(V[e,0], V[e,1], 'k-', zorder=1)\n",
    "    \n",
    "ax.scatter(V[:,0][C_nodes], V[:,1][C_nodes], c='r', s=100.0, zorder=2)  #plot C-nodes in red\n",
    "ax.scatter(V[:,0][F_nodes], V[:,1][F_nodes], c='b', s=100.0, zorder=2)  #plot F-nodes in blue\n",
    "#ax.set_xlim([-0.5,1.5])\n",
    "#ax.set_ylim([-0.5,0.5])"
   ]
  },
  {
   "cell_type": "code",
   "execution_count": null,
   "metadata": {},
   "outputs": [],
   "source": []
  },
  {
   "cell_type": "code",
   "execution_count": null,
   "metadata": {},
   "outputs": [],
   "source": []
  },
  {
   "cell_type": "code",
   "execution_count": null,
   "metadata": {},
   "outputs": [],
   "source": []
  },
  {
   "cell_type": "code",
   "execution_count": null,
   "metadata": {},
   "outputs": [],
   "source": []
  },
  {
   "cell_type": "code",
   "execution_count": null,
   "metadata": {},
   "outputs": [],
   "source": []
  }
 ],
 "metadata": {
  "kernelspec": {
   "display_name": "Python 3 (ipykernel)",
   "language": "python",
   "name": "python3"
  },
  "language_info": {
   "codemirror_mode": {
    "name": "ipython",
    "version": 3
   },
   "file_extension": ".py",
   "mimetype": "text/x-python",
   "name": "python",
   "nbconvert_exporter": "python",
   "pygments_lexer": "ipython3",
   "version": "3.9.7"
  }
 },
 "nbformat": 4,
 "nbformat_minor": 4
}
