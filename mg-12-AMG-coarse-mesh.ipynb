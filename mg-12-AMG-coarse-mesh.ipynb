{
 "cells": [
  {
   "cell_type": "code",
   "execution_count": null,
   "metadata": {},
   "outputs": [],
   "source": [
    "import pyamg\n",
    "import numpy\n",
    "import numpy as np\n",
    "from scipy.io import loadmat\n",
    "import scipy.sparse as sparse\n",
    "import matplotlib.pyplot as plt\n",
    "from common import set_figure"
   ]
  },
  {
   "cell_type": "markdown",
   "metadata": {},
   "source": [
    "Load some data"
   ]
  },
  {
   "cell_type": "code",
   "execution_count": null,
   "metadata": {},
   "outputs": [],
   "source": [
    "#data = pyamg.gallery.load_example('airfoil')\n",
    "data = pyamg.gallery.load_example('unit_square')"
   ]
  },
  {
   "cell_type": "markdown",
   "metadata": {},
   "source": [
    "Create vertices and edges (for plotting)"
   ]
  },
  {
   "cell_type": "code",
   "execution_count": null,
   "metadata": {},
   "outputs": [],
   "source": [
    "A = data['A'].tocsr()                              # matrix\n",
    "V = data['vertices'][:A.shape[0]]                  # vertices of each variable\n",
    "E = numpy.vstack((A.tocoo().row,A.tocoo().col)).T  # edges of the matrix graph"
   ]
  },
  {
   "cell_type": "code",
   "execution_count": null,
   "metadata": {},
   "outputs": [],
   "source": [
    "def stencil_grid(S, grid):\n",
    "    N_v = np.prod(grid)  # number of vertices in the mesh\n",
    "    N_s = (S != 0).sum() # number of nonzero stencil entries\n",
    "\n",
    "    # diagonal offsets\n",
    "    diags = np.zeros(N_s, dtype=int)\n",
    "\n",
    "    # compute index offset of each dof within the stencil\n",
    "    strides = np.cumprod([1] + list(reversed(grid)))[:-1]\n",
    "    indices = tuple(i.copy() for i in S.nonzero())\n",
    "    for i, s in zip(indices, S.shape):\n",
    "        i -= s // 2\n",
    "\n",
    "    for stride, coords in zip(strides, reversed(indices)):\n",
    "        diags += stride * coords\n",
    "\n",
    "    data = S[S != 0].repeat(N_v).reshape(N_s, N_v)\n",
    "\n",
    "    indices = np.vstack(indices).T\n",
    "\n",
    "    # zero boundary connections\n",
    "    for index, diag in zip(indices, data):\n",
    "        diag = diag.reshape(grid)\n",
    "        for n, i in enumerate(index):\n",
    "            if i > 0:\n",
    "                s = [slice(None)] * len(grid)\n",
    "                s[n] = slice(0, i)\n",
    "                s = tuple(s)\n",
    "                diag[s] = 0\n",
    "            elif i < 0:\n",
    "                s = [slice(None)]*len(grid)\n",
    "                s[n] = slice(i, None)\n",
    "                s = tuple(s)\n",
    "                diag[s] = 0\n",
    "\n",
    "    # remove diagonals that lie outside matrix\n",
    "    mask = abs(diags) < N_v\n",
    "    if not mask.all():\n",
    "        diags = diags[mask]\n",
    "        data = data[mask]\n",
    "\n",
    "    # sum duplicate diagonals\n",
    "    if len(np.unique(diags)) != len(diags):\n",
    "        new_diags = np.unique(diags)\n",
    "        new_data = np.zeros((len(new_diags), data.shape[1]),\n",
    "                            dtype=data.dtype)\n",
    "\n",
    "        for dia, dat in zip(diags, data):\n",
    "            n = np.searchsorted(new_diags, dia)\n",
    "            new_data[n, :] += dat\n",
    "\n",
    "        diags = new_diags\n",
    "        data = new_data\n",
    "\n",
    "    return sparse.dia_matrix((data, diags), shape=(N_v, N_v)).tocsr()\n",
    "\n",
    "def poissonop(n, sten):\n",
    "    #sten = np.array([[0, -1, 0], [-1, 4, -1], [0, -1, 0]])\n",
    "    A = stencil_grid(sten, (n, n))\n",
    "    return A\n",
    "\n",
    "def getsten(epsilon):\n",
    "    sten = np.array([[ 0      ,           -1.,  0],\n",
    "                     [-epsilon,  2+2*epsilon, -epsilon],\n",
    "                     [0       ,           -1,  0]])\n",
    "    return sten\n",
    "\n",
    "n = 128\n",
    "epsilon = 0.001\n",
    "sten = getsten(epsilon)\n",
    "A = (n+1)**2 * poissonop(n, sten)"
   ]
  },
  {
   "cell_type": "markdown",
   "metadata": {},
   "source": [
    "create an AMG hierarchy"
   ]
  },
  {
   "cell_type": "code",
   "execution_count": null,
   "metadata": {},
   "outputs": [],
   "source": [
    "mls = pyamg.ruge_stuben_solver(A, max_levels=3, max_coarse=1,\n",
    "                               CF='RS',keep=True)\n",
    "print(mls)"
   ]
  },
  {
   "cell_type": "code",
   "execution_count": null,
   "metadata": {},
   "outputs": [],
   "source": [
    "# The CF splitting, 1 == C-node and 0 == F-node\n",
    "splitting = mls.levels[0].splitting\n",
    "C_nodes = splitting == 1\n",
    "F_nodes = splitting == 0\n",
    "\n",
    "fig, ax = plt.subplots(figsize=(6,6))\n",
    "ax.axis('equal')\n",
    "\n",
    "for e in E:\n",
    "    plt.plot(V[e,0], V[e,1], 'k-', zorder=1)\n",
    "    \n",
    "plt.scatter(V[:,0][C_nodes], V[:,1][C_nodes], c='r', s=100.0, zorder=2)  #plot C-nodes in red\n",
    "plt.scatter(V[:,0][F_nodes], V[:,1][F_nodes], c='b', s=100.0, zorder=2)  #plot F-nodes in blue"
   ]
  },
  {
   "cell_type": "code",
   "execution_count": null,
   "metadata": {},
   "outputs": [],
   "source": []
  }
 ],
 "metadata": {
  "kernelspec": {
   "display_name": "Python 3 (ipykernel)",
   "language": "python",
   "name": "python3"
  },
  "language_info": {
   "codemirror_mode": {
    "name": "ipython",
    "version": 3
   },
   "file_extension": ".py",
   "mimetype": "text/x-python",
   "name": "python",
   "nbconvert_exporter": "python",
   "pygments_lexer": "ipython3",
   "version": "3.9.7"
  }
 },
 "nbformat": 4,
 "nbformat_minor": 4
}
