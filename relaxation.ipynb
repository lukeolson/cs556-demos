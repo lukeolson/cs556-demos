{
 "cells": [
  {
   "cell_type": "code",
   "execution_count": null,
   "metadata": {},
   "outputs": [],
   "source": [
    "import numpy as np\n",
    "import scipy as sp\n",
    "import scipy.sparse as sparse\n",
    "import scipy.sparse.linalg as sla\n",
    "import matplotlib.pyplot as plt\n",
    "from common import set_figure"
   ]
  },
  {
   "cell_type": "markdown",
   "metadata": {},
   "source": [
    "### Poisson problem"
   ]
  },
  {
   "cell_type": "code",
   "execution_count": null,
   "metadata": {},
   "outputs": [],
   "source": [
    "n = 2**7 - 1\n",
    "A = sparse.diags([-1, 2, -1], [-1, 0, 1], shape=(n,n), format='csr')\n",
    "b = np.zeros((n,))"
   ]
  },
  {
   "cell_type": "markdown",
   "metadata": {},
   "source": [
    "### Make Jacobi and Gauss-Seidel helper matrices"
   ]
  },
  {
   "cell_type": "code",
   "execution_count": null,
   "metadata": {},
   "outputs": [],
   "source": [
    "I = sparse.eye(n, format='csr')\n",
    "Dinv = 0.5 * I\n",
    "D = 2 * I\n",
    "E = -sparse.tril(A, -1)"
   ]
  },
  {
   "cell_type": "markdown",
   "metadata": {},
   "source": [
    "#### Run a few iterations\n",
    "$$\n",
    "x \\leftarrow x + \\omega (b - A x)\n",
    "$$\n",
    "or if $b=0$\n",
    "$$\n",
    "x \\leftarrow x - \\omega A x\n",
    "$$"
   ]
  },
  {
   "cell_type": "code",
   "execution_count": null,
   "metadata": {},
   "outputs": [],
   "source": [
    "omega = 3.0/3.0\n",
    "rnorm = []\n",
    "monitor = True\n",
    "x = np.random.rand(n)\n",
    "for i in range(20):\n",
    "    x[:] = x - omega * Dinv * A * x\n",
    "    #x[:] = x - sla.spsolve(D-E, A*x)\n",
    "    rnorm.append(np.linalg.norm(A * x))\n",
    "\n",
    "    if monitor and i%5==0:\n",
    "        plt.plot(x)\n",
    "        plt.draw()"
   ]
  },
  {
   "cell_type": "code",
   "execution_count": null,
   "metadata": {},
   "outputs": [],
   "source": [
    "plt.plot(x)\n",
    "plt.axis([0,100,0,1])"
   ]
  },
  {
   "cell_type": "code",
   "execution_count": null,
   "metadata": {},
   "outputs": [],
   "source": []
  }
 ],
 "metadata": {
  "kernelspec": {
   "display_name": "Python 3 (ipykernel)",
   "language": "python",
   "name": "python3"
  },
  "language_info": {
   "codemirror_mode": {
    "name": "ipython",
    "version": 3
   },
   "file_extension": ".py",
   "mimetype": "text/x-python",
   "name": "python",
   "nbconvert_exporter": "python",
   "pygments_lexer": "ipython3",
   "version": "3.9.6"
  }
 },
 "nbformat": 4,
 "nbformat_minor": 4
}
