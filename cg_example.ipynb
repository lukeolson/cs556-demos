{
 "cells": [
  {
   "cell_type": "code",
   "execution_count": null,
   "metadata": {},
   "outputs": [],
   "source": [
    "from cg import cg\n",
    "import numpy as np\n",
    "import scipy.sparse as sparse\n",
    "import matplotlib.pyplot as plt\n",
    "from common import set_figure"
   ]
  },
  {
   "cell_type": "code",
   "execution_count": null,
   "metadata": {},
   "outputs": [],
   "source": [
    "its = 78\n",
    "\n",
    "n = 100\n",
    "A = sparse.diags([-1, 2, -1], [-1, 0, 1], shape=(n,n), format='csr')\n",
    "A = A.toarray()\n",
    "w, V = np.linalg.eig(A)\n",
    "#V = V.T\n",
    "b = np.zeros((n,))\n",
    "\n",
    "b = np.zeros((n,))\n",
    "x0 = np.random.rand(n)\n",
    "res = []\n",
    "err = []\n",
    "\n",
    "X0 = V.copy()\n",
    "for i in range(n):\n",
    "    X0[:,i] *= 1.0 #np.random.rand(1)\n",
    "    \n",
    "x0 = 0*x0\n",
    "print(x0.shape)\n",
    "for i in range(15):\n",
    "    x0 += X0[:,i].ravel()\n",
    "\n",
    "x, returncode = cg(A, b, x0=x0, tol=1e-12, maxiter=its, residuals=res, errs=err)"
   ]
  },
  {
   "cell_type": "code",
   "execution_count": null,
   "metadata": {},
   "outputs": [],
   "source": [
    "plt.figure(figsize=(8,8))\n",
    "plt.semilogy(res)\n",
    "plt.semilogy(err)\n",
    "#plt.savefig('09-20-img.png')"
   ]
  },
  {
   "cell_type": "code",
   "execution_count": null,
   "metadata": {},
   "outputs": [],
   "source": [
    "plt.plot(x)"
   ]
  },
  {
   "cell_type": "code",
   "execution_count": null,
   "metadata": {},
   "outputs": [],
   "source": [
    "n = 500\n",
    "tau = 0.01\n",
    "A = np.random.rand(n, n) * 2 - 1\n",
    "A = np.tril(A, -1)\n",
    "A = A + A.T\n",
    "\n",
    "for j in range(n):\n",
    "    A[j,j] = 1\n",
    " \n",
    "for i in range(n):\n",
    "    for j in range(n):\n",
    "        if np.abs(A[i,j] > tau) and i != j:\n",
    "            A[i,j] = 0.0\n",
    "            \n",
    "b = np.zeros((n,))\n",
    "x0 = np.random.rand(n)"
   ]
  },
  {
   "cell_type": "code",
   "execution_count": null,
   "metadata": {},
   "outputs": [],
   "source": [
    "res = []\n",
    "\n",
    "x, returncode = cg(A, b, x0=x0, maxiter=20, residuals=res)"
   ]
  },
  {
   "cell_type": "code",
   "execution_count": null,
   "metadata": {},
   "outputs": [],
   "source": [
    "plt.figure(figsize=(8,8))\n",
    "plt.semilogy(res)"
   ]
  },
  {
   "cell_type": "code",
   "execution_count": null,
   "metadata": {},
   "outputs": [],
   "source": [
    "np.linalg.cond(A)"
   ]
  },
  {
   "cell_type": "code",
   "execution_count": null,
   "metadata": {},
   "outputs": [],
   "source": []
  }
 ],
 "metadata": {
  "kernelspec": {
   "display_name": "Python 3 (ipykernel)",
   "language": "python",
   "name": "python3"
  },
  "language_info": {
   "codemirror_mode": {
    "name": "ipython",
    "version": 3
   },
   "file_extension": ".py",
   "mimetype": "text/x-python",
   "name": "python",
   "nbconvert_exporter": "python",
   "pygments_lexer": "ipython3",
   "version": "3.9.6"
  }
 },
 "nbformat": 4,
 "nbformat_minor": 4
}
