{
 "cells": [
  {
   "cell_type": "code",
   "execution_count": null,
   "metadata": {},
   "outputs": [],
   "source": [
    "import scipy as sp\n",
    "import numpy as np\n",
    "import scipy.sparse as sparse\n",
    "import scipy.sparse.linalg as sla\n",
    "import matplotlib.pyplot as plt\n",
    "from common import set_figure\n",
    "\n",
    "import pyamg"
   ]
  },
  {
   "cell_type": "markdown",
   "metadata": {},
   "source": [
    "###  Anisotropy\n",
    "\n",
    "For this example, let's try a fairly small grid.\n",
    "\n",
    "And test $\\varepsilon = 0.01$ with a rotation of $\\theta = \\frac{\\pi}{2}$ and $\\theta=\\frac{\\pi}{4}$."
   ]
  },
  {
   "cell_type": "code",
   "execution_count": null,
   "metadata": {},
   "outputs": [],
   "source": [
    "#theta = np.pi / 2\n",
    "theta = np.pi / 4\n",
    "epsilon = 0.01\n",
    "nx = 20\n",
    "ny = nx\n",
    "stencil = pyamg.gallery.diffusion.diffusion_stencil_2d(type='FD', epsilon=epsilon, theta=theta)\n",
    "print(stencil)\n",
    "A = pyamg.gallery.stencil_grid(stencil, (nx, ny), format='csr')"
   ]
  },
  {
   "cell_type": "markdown",
   "metadata": {},
   "source": [
    "###  Build a CF hierarchy\n",
    "\n",
    "Use `ruge_stuben_solver` to build a CF hierarchy. With a few notes:\n",
    "\n",
    "- `keep` will simply retain all of the \"extra\" operators used to build the hierarch.  For example a list of the C/F nodes on each level.\n",
    "- `strength` sets the strength parameters.  Here `classical` is normally used.  The `norm` equal to `min` (rather than `abs`) avoids using the absolute value in the strength test so that large positive entries are treated as weak connections."
   ]
  },
  {
   "cell_type": "code",
   "execution_count": null,
   "metadata": {},
   "outputs": [],
   "source": [
    "ml = pyamg.ruge_stuben_solver(A, keep=True,\n",
    "                              strength=('classical',\n",
    "                                        {'theta': 0.25,\n",
    "                                         'norm': 'min'}))\n",
    "print(ml)"
   ]
  },
  {
   "cell_type": "markdown",
   "metadata": {},
   "source": [
    "### View the splitting\n",
    "\n",
    "We can vew the C/F splitting by inspecting the first `level`."
   ]
  },
  {
   "cell_type": "code",
   "execution_count": null,
   "metadata": {},
   "outputs": [],
   "source": [
    "X, Y = np.meshgrid(np.linspace(0,1,nx), np.linspace(0,1,ny))\n",
    "X = X.ravel()\n",
    "Y = Y.ravel()\n",
    "\n",
    "# The CF splitting, 1 == C-node and 0 == F-node\n",
    "splitting = ml.levels[0].splitting\n",
    "C_nodes = splitting == 1\n",
    "F_nodes = splitting == 0\n",
    "\n",
    "plt.scatter(X[C_nodes], Y[C_nodes],\n",
    "            marker='s',\n",
    "            s=30.0, label='C pts')\n",
    "plt.scatter(X[F_nodes], Y[F_nodes],\n",
    "            marker='s',\n",
    "            s=30.0, label='F pts')\n",
    "plt.legend(frameon=True)"
   ]
  },
  {
   "cell_type": "markdown",
   "metadata": {},
   "source": [
    "### The `ml` hierarchy\n",
    "\n",
    "Notice a few things about the hierarchy..."
   ]
  },
  {
   "cell_type": "markdown",
   "metadata": {},
   "source": [
    "Each level has a number of attributes/functions:\n",
    "- `A` is the operator on this level\n",
    "- `P` interpolates **to** this level\n",
    "- `R` restricts **from** this level.  Simply `R=P.T` in this case.\n",
    "- `C` is a sparse matrix of strong connections\n",
    "- `splitting` holds C/F information\n",
    "- `presmoother` and `postsmoother` point to the relaxation routine"
   ]
  },
  {
   "cell_type": "code",
   "execution_count": null,
   "metadata": {},
   "outputs": [],
   "source": [
    "dir(ml.levels[0])"
   ]
  },
  {
   "cell_type": "markdown",
   "metadata": {},
   "source": [
    "- `Operator complexity` is the total sum of the `nnz` in all operators `A` compared to the fine level"
   ]
  },
  {
   "cell_type": "code",
   "execution_count": null,
   "metadata": {},
   "outputs": [],
   "source": [
    "Asizes = [ml.levels[i].A.nnz for i in range(len(ml.levels))]\n",
    "print(Asizes)\n",
    "print(np.sum(Asizes)/Asizes[0])"
   ]
  },
  {
   "cell_type": "markdown",
   "metadata": {},
   "source": [
    "- `Grid Complexity` is the total sum of the unknowns per level, compared to the fine level"
   ]
  },
  {
   "cell_type": "code",
   "execution_count": null,
   "metadata": {},
   "outputs": [],
   "source": [
    "Asizes = [ml.levels[i].A.shape[0] for i in range(len(ml.levels))]\n",
    "print(Asizes)\n",
    "print(np.sum(Asizes)/Asizes[0])"
   ]
  },
  {
   "cell_type": "markdown",
   "metadata": {},
   "source": [
    "### Set up a problem and solve\n",
    "\n",
    "Now, set $f=0$ and the initial $u$ to random and solve.\n",
    "\n",
    "Note: you can set `accel='cg'` to use AMG as a preconditioner"
   ]
  },
  {
   "cell_type": "code",
   "execution_count": null,
   "metadata": {},
   "outputs": [],
   "source": [
    "f = np.zeros(A.shape[0])\n",
    "u0 = np.random.randn(A.shape[0])\n",
    "res = []\n",
    "u = ml.solve(b=f, x0=u0, residuals=res)"
   ]
  },
  {
   "cell_type": "code",
   "execution_count": null,
   "metadata": {},
   "outputs": [],
   "source": [
    "res = np.array(res)\n",
    "res[1:] / res[:-1]"
   ]
  },
  {
   "cell_type": "markdown",
   "metadata": {},
   "source": [
    "### Make a bigger problem!"
   ]
  },
  {
   "cell_type": "code",
   "execution_count": null,
   "metadata": {},
   "outputs": [],
   "source": [
    "theta = np.pi / 4\n",
    "epsilon = 0.01\n",
    "nx = 1000\n",
    "ny = nx\n",
    "stencil = pyamg.gallery.diffusion.diffusion_stencil_2d(type='FD', epsilon=epsilon, theta=theta)\n",
    "print(stencil)\n",
    "A = pyamg.gallery.stencil_grid(stencil, (nx, ny), format='csr')"
   ]
  },
  {
   "cell_type": "code",
   "execution_count": null,
   "metadata": {},
   "outputs": [],
   "source": [
    "ml = pyamg.ruge_stuben_solver(A, keep=True,\n",
    "                              strength=('classical',\n",
    "                                        {'theta': 0.25,\n",
    "                                         'norm': 'min'}))\n",
    "print(ml)"
   ]
  },
  {
   "cell_type": "code",
   "execution_count": null,
   "metadata": {},
   "outputs": [],
   "source": [
    "f = np.zeros(A.shape[0])\n",
    "u0 = np.random.randn(A.shape[0])\n",
    "res = []\n",
    "u = ml.solve(b=f, x0=u0, residuals=res, accel='cg')"
   ]
  },
  {
   "cell_type": "code",
   "execution_count": null,
   "metadata": {},
   "outputs": [],
   "source": [
    "res = np.array(res)\n",
    "res[1:] / res[:-1]"
   ]
  },
  {
   "cell_type": "code",
   "execution_count": null,
   "metadata": {},
   "outputs": [],
   "source": [
    "plt.semilogy(res)"
   ]
  },
  {
   "cell_type": "code",
   "execution_count": null,
   "metadata": {},
   "outputs": [],
   "source": []
  },
  {
   "cell_type": "code",
   "execution_count": null,
   "metadata": {},
   "outputs": [],
   "source": []
  },
  {
   "cell_type": "code",
   "execution_count": null,
   "metadata": {},
   "outputs": [],
   "source": []
  },
  {
   "cell_type": "code",
   "execution_count": null,
   "metadata": {},
   "outputs": [],
   "source": []
  },
  {
   "cell_type": "code",
   "execution_count": null,
   "metadata": {},
   "outputs": [],
   "source": []
  }
 ],
 "metadata": {
  "kernelspec": {
   "display_name": "Python 3 (ipykernel)",
   "language": "python",
   "name": "python3"
  },
  "language_info": {
   "codemirror_mode": {
    "name": "ipython",
    "version": 3
   },
   "file_extension": ".py",
   "mimetype": "text/x-python",
   "name": "python",
   "nbconvert_exporter": "python",
   "pygments_lexer": "ipython3",
   "version": "3.9.7"
  }
 },
 "nbformat": 4,
 "nbformat_minor": 4
}
