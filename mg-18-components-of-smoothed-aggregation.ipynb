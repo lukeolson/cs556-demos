{
 "cells": [
  {
   "cell_type": "code",
   "execution_count": null,
   "metadata": {},
   "outputs": [],
   "source": [
    "import numpy as np\n",
    "import scipy.io as sio\n",
    "import pyamg\n",
    "import scipy.sparse.linalg as sla\n",
    "\n",
    "import matplotlib.pyplot as plt\n",
    "from matplotlib import collections\n",
    "from matplotlib import tri\n",
    "from common import set_figure\n",
    "\n",
    "import warnings\n",
    "warnings.simplefilter(action='ignore', category=FutureWarning)"
   ]
  },
  {
   "cell_type": "markdown",
   "metadata": {},
   "source": [
    "# Read in a problem\n",
    "\n",
    "This is a poisson problem on an unstructured mesh\n",
    "\n",
    "`A` is the matrix\n",
    "\n",
    "`vertices` are the vertices in the mesh\n",
    "\n",
    "`elements` are the triangles in the mesh"
   ]
  },
  {
   "cell_type": "code",
   "execution_count": null,
   "metadata": {},
   "outputs": [],
   "source": [
    "data = pyamg.gallery.load_example('unit_square')\n",
    "\n",
    "A = data['A'].tocsr()                        # matrix\n",
    "V = data['vertices'][:A.shape[0]]            # vertices of each variable\n",
    "Elmts = data['elements']\n",
    "n = A.shape[0]\n",
    "\n",
    "x = V[:,0]\n",
    "y = V[:,1]"
   ]
  },
  {
   "cell_type": "markdown",
   "metadata": {},
   "source": [
    "# Plot the mesh"
   ]
  },
  {
   "cell_type": "code",
   "execution_count": null,
   "metadata": {},
   "outputs": [],
   "source": [
    "f, ax = plt.subplots(1, figsize=(8,8))\n",
    "t = tri.Triangulation(x, y, Elmts)\n",
    "plt.triplot(t)\n",
    "plt.axis('off')"
   ]
  },
  {
   "cell_type": "markdown",
   "metadata": {},
   "source": [
    "# Plot the \"graph of $A$\""
   ]
  },
  {
   "cell_type": "code",
   "execution_count": null,
   "metadata": {},
   "outputs": [],
   "source": [
    "thismatrix = A\n",
    "E = np.vstack((thismatrix.tocoo().row,thismatrix.tocoo().col)).T  # edges of the matrix graph\n",
    "print(E)\n",
    "f, ax = plt.subplots(1, figsize=(8,8))\n",
    "\n",
    "lines = np.empty((E.shape[0], 2, 2))\n",
    "lines[:,0,0] = x[E[:,0]] # xstart\n",
    "lines[:,1,0] = x[E[:,1]] # xend\n",
    "lines[:,0,1] = y[E[:,0]] # ystart\n",
    "lines[:,1,1] = y[E[:,1]] # yend\n",
    "\n",
    "ls = collections.LineCollection(lines)\n",
    "ax.add_collection(ls, autolim=True)\n",
    "ax.autoscale_view()\n",
    "ax.axis('off')"
   ]
  },
  {
   "cell_type": "markdown",
   "metadata": {},
   "source": [
    "# Set the near null space or candidate vectors"
   ]
  },
  {
   "cell_type": "code",
   "execution_count": null,
   "metadata": {},
   "outputs": [],
   "source": [
    "B = np.ones((n,1))"
   ]
  },
  {
   "cell_type": "markdown",
   "metadata": {},
   "source": [
    "# Find the strength of connection in the graph of $A$"
   ]
  },
  {
   "cell_type": "code",
   "execution_count": null,
   "metadata": {},
   "outputs": [],
   "source": [
    "S = pyamg.strength.symmetric_strength_of_connection(A, theta = 0.1)\n",
    "S"
   ]
  },
  {
   "cell_type": "code",
   "execution_count": null,
   "metadata": {},
   "outputs": [],
   "source": [
    "def plotmatrix(thismatrix, ax, lw=1, color='tab:blue'):\n",
    "    E = np.vstack((thismatrix.tocoo().row,thismatrix.tocoo().col)).T  # edges of the matrix graph\n",
    "\n",
    "    lines = np.empty((E.shape[0], 2, 2))\n",
    "    lines[:,0,0] = x[E[:,0]] # xstart\n",
    "    lines[:,1,0] = x[E[:,1]] # xend\n",
    "    lines[:,0,1] = y[E[:,0]] # ystart\n",
    "    lines[:,1,1] = y[E[:,1]] # yend\n",
    "\n",
    "    ls = collections.LineCollection(lines, color=color)\n",
    "    ax.add_collection(ls, autolim=True)\n",
    "    ls.set_linewidth(lw)\n",
    "    ax.autoscale_view()\n",
    "    ax.axis('off')"
   ]
  },
  {
   "cell_type": "code",
   "execution_count": null,
   "metadata": {},
   "outputs": [],
   "source": [
    "f, ax = plt.subplots(1, figsize=(6,6))\n",
    "\n",
    "# FIRST A\n",
    "plotmatrix(A, ax, color='tab:blue')\n",
    "\n",
    "# THEN S\n",
    "plotmatrix(S, ax, lw=6, color='tab:red')\n",
    "\n",
    "# What about point 44?\n",
    "i = 44\n",
    "J = A.getrow(i).indices\n",
    "for j in J:\n",
    "    plt.plot(x[j], y[j], 'ro')\n",
    "    plt.text(x[j], y[j], '%d'%j, fontsize=12, color='k')\n",
    "    \n",
    "print(A.getrow(i))"
   ]
  },
  {
   "cell_type": "markdown",
   "metadata": {},
   "source": [
    "# Aggregate based on Strength"
   ]
  },
  {
   "cell_type": "code",
   "execution_count": null,
   "metadata": {},
   "outputs": [],
   "source": [
    "AggOp, Cpts = pyamg.aggregation.aggregate.standard_aggregation(S)"
   ]
  },
  {
   "cell_type": "code",
   "execution_count": null,
   "metadata": {},
   "outputs": [],
   "source": [
    "AggOp"
   ]
  },
  {
   "cell_type": "code",
   "execution_count": null,
   "metadata": {},
   "outputs": [],
   "source": [
    "f, ax = plt.subplots(1, figsize=(6,6))\n",
    "\n",
    "plotmatrix(A, ax)\n",
    "\n",
    "plotmatrix(S, ax, lw=2)\n",
    "\n",
    "# now plot each aggregate\n",
    "for i in range(AggOp.shape[1]):\n",
    "    J = AggOp.getcol(i).tocoo().row\n",
    "    for j1 in J:\n",
    "        for j2 in J:    \n",
    "            if j1 != j2:\n",
    "                if A[j1, j2]:\n",
    "                    plt.plot([x[j1], x[j2]], [y[j1], y[j2]], 'r', lw=4)\n",
    "    if len(J) == 1:\n",
    "        plt.plot(x[J[0]], y[J[0]], 'ro', ms=10)\n",
    "                    \n",
    "for i, v in enumerate(V):\n",
    "    plt.text(v[0], v[1], '%d'%i, fontsize=10)"
   ]
  },
  {
   "cell_type": "markdown",
   "metadata": {},
   "source": [
    "# Create an interpolation operator"
   ]
  },
  {
   "cell_type": "code",
   "execution_count": null,
   "metadata": {},
   "outputs": [],
   "source": [
    "plt.spy(AggOp, ms=2)"
   ]
  },
  {
   "cell_type": "code",
   "execution_count": null,
   "metadata": {},
   "outputs": [],
   "source": [
    "T, R = pyamg.aggregation.tentative.fit_candidates(AggOp, B)"
   ]
  },
  {
   "cell_type": "code",
   "execution_count": null,
   "metadata": {},
   "outputs": [],
   "source": [
    "T\n",
    "row = T.getrow(93)\n",
    "print(row.indices)"
   ]
  },
  {
   "cell_type": "markdown",
   "metadata": {},
   "source": [
    "# Improve the interpolation operator"
   ]
  },
  {
   "cell_type": "code",
   "execution_count": null,
   "metadata": {},
   "outputs": [],
   "source": [
    "P = pyamg.aggregation.smooth.jacobi_prolongation_smoother(A, T, S, B, degree=6).tocsr()"
   ]
  },
  {
   "cell_type": "code",
   "execution_count": null,
   "metadata": {},
   "outputs": [],
   "source": [
    "T = T.toarray()\n",
    "P = P.toarray()"
   ]
  },
  {
   "cell_type": "code",
   "execution_count": null,
   "metadata": {},
   "outputs": [],
   "source": [
    "f, ax = plt.subplots(1, figsize=(4,4))\n",
    "t = tri.Triangulation(x, y, Elmts)\n",
    "plt.tripcolor(t, T[:,18])\n",
    "plt.axis('off')\n",
    "\n",
    "f, ax = plt.subplots(1, figsize=(4,4))\n",
    "t = tri.Triangulation(x, y, Elmts)\n",
    "plt.tripcolor(t, P[:,18])\n",
    "plt.axis('off')"
   ]
  },
  {
   "cell_type": "markdown",
   "metadata": {},
   "source": [
    "## A full multilevel hierarchy"
   ]
  },
  {
   "cell_type": "code",
   "execution_count": null,
   "metadata": {},
   "outputs": [],
   "source": [
    "ml = pyamg.smoothed_aggregation_solver(A, \n",
    "                                       strength=('evolution', {'epsilon': 8.0}),\n",
    "                                       max_coarse=1, keep=True, improve_candidates=None)\n",
    "print(ml)"
   ]
  },
  {
   "cell_type": "code",
   "execution_count": null,
   "metadata": {},
   "outputs": [],
   "source": [
    "res = []\n",
    "b = np.zeros((n,))\n",
    "x = np.random.rand(n)\n",
    "x = ml.solve(b, x0=x, residuals=res)\n",
    "print(res)"
   ]
  },
  {
   "cell_type": "code",
   "execution_count": null,
   "metadata": {},
   "outputs": [],
   "source": [
    "res = np.array(res)\n",
    "res[1:] / res[:-1]"
   ]
  },
  {
   "cell_type": "code",
   "execution_count": null,
   "metadata": {},
   "outputs": [],
   "source": []
  },
  {
   "cell_type": "code",
   "execution_count": null,
   "metadata": {},
   "outputs": [],
   "source": []
  },
  {
   "cell_type": "code",
   "execution_count": null,
   "metadata": {},
   "outputs": [],
   "source": []
  },
  {
   "cell_type": "code",
   "execution_count": null,
   "metadata": {},
   "outputs": [],
   "source": []
  },
  {
   "cell_type": "code",
   "execution_count": null,
   "metadata": {},
   "outputs": [],
   "source": []
  }
 ],
 "metadata": {
  "kernelspec": {
   "display_name": "Python 3 (ipykernel)",
   "language": "python",
   "name": "python3"
  },
  "language_info": {
   "codemirror_mode": {
    "name": "ipython",
    "version": 3
   },
   "file_extension": ".py",
   "mimetype": "text/x-python",
   "name": "python",
   "nbconvert_exporter": "python",
   "pygments_lexer": "ipython3",
   "version": "3.9.7"
  }
 },
 "nbformat": 4,
 "nbformat_minor": 4
}
