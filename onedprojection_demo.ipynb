{
 "cells": [
  {
   "cell_type": "code",
   "execution_count": null,
   "metadata": {},
   "outputs": [],
   "source": [
    "import numpy as np\n",
    "import scipy as sp\n",
    "import scipy.sparse as sparse\n",
    "import scipy.sparse.linalg as sla\n",
    "import matplotlib.pyplot as plt\n",
    "import time\n",
    "import onedprojection\n",
    "from common import set_figure"
   ]
  },
  {
   "cell_type": "code",
   "execution_count": null,
   "metadata": {},
   "outputs": [],
   "source": [
    "n = 100\n",
    "A = sparse.diags([-1, 2, -1], [-1, 0, 1], shape=(n,n), format='csr')\n",
    "b = np.zeros((n,))\n",
    "x0 = np.random.rand(n)"
   ]
  },
  {
   "cell_type": "markdown",
   "metadata": {},
   "source": [
    "# SD"
   ]
  },
  {
   "cell_type": "code",
   "execution_count": null,
   "metadata": {},
   "outputs": [],
   "source": [
    "res = []\n",
    "err = []\n",
    "\n",
    "t1 = time.time()\n",
    "x = onedprojection.onedprojection(A,b,x0=x0,tol=1e-8,residuals=res,method='SD',errs=err, maxiter=1000)\n",
    "t2 = time.time()\n",
    "\n",
    "print(\"total time took %g seconds\"%(t2-t1))\n",
    "print(\"iterations: %d\"%(len(res)))\n",
    "\n",
    "plt.figure(figsize=(12,8))\n",
    "plt.semilogy(res, label=r'$\\|r_k\\|_2$', lw=1)\n",
    "plt.semilogy(err, label=r'$\\|e_k\\|_A$', lw=1)\n",
    "plt.xlabel(\"iteration\")\n",
    "plt.ylabel(r\"$\\|.\\|$\")\n",
    "plt.legend(frameon=False)"
   ]
  },
  {
   "cell_type": "code",
   "execution_count": null,
   "metadata": {},
   "outputs": [],
   "source": [
    "for (q,st) in zip([res,err],['residuals','errors']):\n",
    "    q = np.array(q)\n",
    "    a_factor = np.mean(q[1:]/q[0:-1])\n",
    "    g_factor = (q[-1]/q[0])**(1.0/len(q))\n",
    "    i_factor = q[-1]/q[-2]\n",
    "    print(\"%s: geometric factor: %g\"%(st,g_factor))\n",
    "    print(\"%s: average factor: %g\"%(st,a_factor))\n",
    "    print(\"%s: immediate factor: %g\"%(st,i_factor))\n",
    "    \n",
    "(lmax,v)=sla.eigs(A,k=1,which='LM',maxiter=10000)\n",
    "(lmin,v)=sla.eigs(A,k=1,which='SM',maxiter=10000)\n",
    "lmax=lmax[0].real\n",
    "lmin=lmin[0].real\n",
    "bound = (lmax-lmin)/(lmax+lmin)\n",
    "print(\"theoretical convergence factor = %g\"%(bound))"
   ]
  },
  {
   "cell_type": "markdown",
   "metadata": {},
   "source": [
    "# MR"
   ]
  },
  {
   "cell_type": "code",
   "execution_count": null,
   "metadata": {},
   "outputs": [],
   "source": [
    "res = []\n",
    "err = []\n",
    "\n",
    "t1 = time.time()\n",
    "x = onedprojection.onedprojection(A,b,x0=x0,tol=1e-8,residuals=res,method='MR',errs=err, maxiter=100)\n",
    "t2 = time.time()\n",
    "\n",
    "print(\"total time took %g seconds\"%(t2-t1))\n",
    "print(\"iterations: %d\"%(len(res)))\n",
    "\n",
    "plt.figure(figsize=(12,8))\n",
    "plt.semilogy(res, label=r'$\\|r_k\\|_2$', lw=1)\n",
    "plt.semilogy(err, label=r'$\\|e_k\\|_A$', lw=1)\n",
    "plt.xlabel(\"iteration\")\n",
    "plt.ylabel(r\"$\\|.\\|$\")\n",
    "plt.legend(frameon=False)"
   ]
  },
  {
   "cell_type": "markdown",
   "metadata": {},
   "source": [
    "# RNSD"
   ]
  },
  {
   "cell_type": "code",
   "execution_count": null,
   "metadata": {},
   "outputs": [],
   "source": [
    "res = []\n",
    "err = []\n",
    "\n",
    "t1 = time.time()\n",
    "x = onedprojection.onedprojection(A,b,x0=x0,tol=1e-8,residuals=res,method='RNSD',errs=err, maxiter=100)\n",
    "t2 = time.time()\n",
    "\n",
    "print(\"total time took %g seconds\"%(t2-t1))\n",
    "print(\"iterations: %d\"%(len(res)))\n",
    "\n",
    "plt.figure(figsize=(12,8))\n",
    "plt.semilogy(res, label=r'$\\|r_k\\|_2$', lw=4)\n",
    "plt.semilogy(err, label=r'$\\|e_k\\|_A$', lw=4)\n",
    "plt.xlabel(\"iteration\")\n",
    "plt.ylabel(r\"$\\|.\\|$\")\n",
    "plt.legend(frameon=False)"
   ]
  },
  {
   "cell_type": "markdown",
   "metadata": {},
   "source": [
    "# Trying out SD"
   ]
  },
  {
   "cell_type": "code",
   "execution_count": null,
   "metadata": {},
   "outputs": [],
   "source": [
    "n = 100\n",
    "diag = np.linspace(0,1,n)\n",
    "diag[0] = 0.01\n",
    "A = sparse.spdiags(diag, [0], n, n, format='csr')\n",
    "A = sparse.csr_matrix(A)\n",
    "b = np.zeros((n,))\n",
    "x0 = np.random.rand(n)"
   ]
  },
  {
   "cell_type": "code",
   "execution_count": null,
   "metadata": {},
   "outputs": [],
   "source": [
    "res = []\n",
    "err = []\n",
    "\n",
    "t1 = time.time()\n",
    "x = onedprojection.onedprojection(A,b,x0=x0,tol=1e-8,residuals=res,method='SD',errs=err, maxiter=10000)\n",
    "t2 = time.time()\n",
    "\n",
    "print(\"total time took %g seconds\"%(t2-t1))\n",
    "print(\"iterations: %d\"%(len(res)))\n",
    "\n",
    "plt.figure(figsize=(12,8))\n",
    "plt.semilogy(res, label=r'$\\|r_k\\|_2$', lw=4)\n",
    "plt.semilogy(err, label=r'$\\|e_k\\|_A$', lw=4)\n",
    "plt.xlabel(\"iteration\")\n",
    "plt.ylabel(r\"$\\|.\\|$\")\n",
    "plt.legend(frameon=False)"
   ]
  }
 ],
 "metadata": {
  "kernelspec": {
   "display_name": "Python 3 (ipykernel)",
   "language": "python",
   "name": "python3"
  },
  "language_info": {
   "codemirror_mode": {
    "name": "ipython",
    "version": 3
   },
   "file_extension": ".py",
   "mimetype": "text/x-python",
   "name": "python",
   "nbconvert_exporter": "python",
   "pygments_lexer": "ipython3",
   "version": "3.9.6"
  }
 },
 "nbformat": 4,
 "nbformat_minor": 4
}
